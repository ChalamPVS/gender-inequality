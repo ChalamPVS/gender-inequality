{
 "cells": [
  {
   "cell_type": "markdown",
   "metadata": {},
   "source": [
    "# Data Preparation"
   ]
  },
  {
   "cell_type": "markdown",
   "metadata": {},
   "source": [
    "**Import necessary packages**"
   ]
  },
  {
   "cell_type": "code",
   "execution_count": 108,
   "metadata": {},
   "outputs": [],
   "source": [
    "import pandas as pd\n",
    "import numpy as np\n",
    "import matplotlib.pyplot as plt\n",
    "import warnings\n",
    "warnings.filterwarnings('ignore')\n",
    "%matplotlib inline"
   ]
  },
  {
   "cell_type": "markdown",
   "metadata": {},
   "source": [
    "GDP (per capita) information for the year 2017 downloaded from https://data.worldbank.org/indicator/ny.gdp.pcap.cd"
   ]
  },
  {
   "cell_type": "code",
   "execution_count": 148,
   "metadata": {},
   "outputs": [],
   "source": [
    "gdp = pd.read_csv('developer_survey_2018/WorldGDP.csv', encoding='ISO-8859-1')"
   ]
  },
  {
   "cell_type": "code",
   "execution_count": 149,
   "metadata": {},
   "outputs": [
    {
     "data": {
      "text/plain": [
       "(263, 2)"
      ]
     },
     "execution_count": 149,
     "metadata": {},
     "output_type": "execute_result"
    }
   ],
   "source": [
    "gdp.shape"
   ]
  },
  {
   "cell_type": "code",
   "execution_count": 150,
   "metadata": {},
   "outputs": [
    {
     "data": {
      "text/html": [
       "<div>\n",
       "<style scoped>\n",
       "    .dataframe tbody tr th:only-of-type {\n",
       "        vertical-align: middle;\n",
       "    }\n",
       "\n",
       "    .dataframe tbody tr th {\n",
       "        vertical-align: top;\n",
       "    }\n",
       "\n",
       "    .dataframe thead th {\n",
       "        text-align: right;\n",
       "    }\n",
       "</style>\n",
       "<table border=\"1\" class=\"dataframe\">\n",
       "  <thead>\n",
       "    <tr style=\"text-align: right;\">\n",
       "      <th></th>\n",
       "      <th>Country Name</th>\n",
       "      <th>2017</th>\n",
       "    </tr>\n",
       "  </thead>\n",
       "  <tbody>\n",
       "    <tr>\n",
       "      <th>0</th>\n",
       "      <td>Aruba</td>\n",
       "      <td>25655.102020</td>\n",
       "    </tr>\n",
       "    <tr>\n",
       "      <th>1</th>\n",
       "      <td>Afghanistan</td>\n",
       "      <td>550.068459</td>\n",
       "    </tr>\n",
       "    <tr>\n",
       "      <th>2</th>\n",
       "      <td>Angola</td>\n",
       "      <td>4100.289786</td>\n",
       "    </tr>\n",
       "    <tr>\n",
       "      <th>3</th>\n",
       "      <td>Albania</td>\n",
       "      <td>4537.579056</td>\n",
       "    </tr>\n",
       "    <tr>\n",
       "      <th>4</th>\n",
       "      <td>Andorra</td>\n",
       "      <td>39146.548840</td>\n",
       "    </tr>\n",
       "  </tbody>\n",
       "</table>\n",
       "</div>"
      ],
      "text/plain": [
       "  Country Name          2017\n",
       "0        Aruba  25655.102020\n",
       "1  Afghanistan    550.068459\n",
       "2       Angola   4100.289786\n",
       "3      Albania   4537.579056\n",
       "4      Andorra  39146.548840"
      ]
     },
     "execution_count": 150,
     "metadata": {},
     "output_type": "execute_result"
    }
   ],
   "source": [
    "gdp.head()"
   ]
  },
  {
   "cell_type": "markdown",
   "metadata": {},
   "source": [
    "**Read-in survey results**"
   ]
  },
  {
   "cell_type": "code",
   "execution_count": 109,
   "metadata": {},
   "outputs": [],
   "source": [
    "df = pd.read_csv('developer_survey_2018/survey_results_public_mini.csv')"
   ]
  },
  {
   "cell_type": "markdown",
   "metadata": {},
   "source": [
    "There are around 100K respondents with over 129 columns"
   ]
  },
  {
   "cell_type": "code",
   "execution_count": 110,
   "metadata": {},
   "outputs": [
    {
     "data": {
      "text/plain": [
       "(98855, 129)"
      ]
     },
     "execution_count": 110,
     "metadata": {},
     "output_type": "execute_result"
    }
   ],
   "source": [
    "df.shape"
   ]
  },
  {
   "cell_type": "markdown",
   "metadata": {},
   "source": [
    "For the purpose of our analysis, we will only concentrate on the following variables - Country, Gender, ConvertedSalary and EthicsChoice"
   ]
  },
  {
   "cell_type": "markdown",
   "metadata": {},
   "source": [
    "Also, we dropout rows with missing values for further analysis"
   ]
  },
  {
   "cell_type": "code",
   "execution_count": 111,
   "metadata": {},
   "outputs": [],
   "source": [
    "subsetdf = df[['Country', 'Gender', 'ConvertedSalary', 'EthicsChoice']].dropna()"
   ]
  },
  {
   "cell_type": "code",
   "execution_count": 112,
   "metadata": {},
   "outputs": [
    {
     "data": {
      "text/plain": [
       "(44416, 4)"
      ]
     },
     "execution_count": 112,
     "metadata": {},
     "output_type": "execute_result"
    }
   ],
   "source": [
    "subsetdf.shape"
   ]
  },
  {
   "cell_type": "markdown",
   "metadata": {},
   "source": [
    "We will only take in respondents who earns salary"
   ]
  },
  {
   "cell_type": "code",
   "execution_count": 113,
   "metadata": {},
   "outputs": [],
   "source": [
    "subsetdf1 = subsetdf[subsetdf.ConvertedSalary>0]"
   ]
  },
  {
   "cell_type": "code",
   "execution_count": 114,
   "metadata": {},
   "outputs": [
    {
     "data": {
      "text/plain": [
       "(43680, 4)"
      ]
     },
     "execution_count": 114,
     "metadata": {},
     "output_type": "execute_result"
    }
   ],
   "source": [
    "subsetdf1.shape"
   ]
  },
  {
   "cell_type": "markdown",
   "metadata": {},
   "source": [
    "Also, for further ease of analysis, we will only consider Male/Female gender"
   ]
  },
  {
   "cell_type": "code",
   "execution_count": 115,
   "metadata": {},
   "outputs": [],
   "source": [
    "subsetdf2 = subsetdf1[subsetdf1.Gender.isin(['Male', 'Female'])]"
   ]
  },
  {
   "cell_type": "markdown",
   "metadata": {},
   "source": [
    "This brings down our data to around 43K rows"
   ]
  },
  {
   "cell_type": "code",
   "execution_count": 116,
   "metadata": {},
   "outputs": [
    {
     "data": {
      "text/plain": [
       "(43056, 4)"
      ]
     },
     "execution_count": 116,
     "metadata": {},
     "output_type": "execute_result"
    }
   ],
   "source": [
    "subsetdf2.shape"
   ]
  },
  {
   "cell_type": "code",
   "execution_count": 117,
   "metadata": {},
   "outputs": [
    {
     "data": {
      "text/html": [
       "<div>\n",
       "<style scoped>\n",
       "    .dataframe tbody tr th:only-of-type {\n",
       "        vertical-align: middle;\n",
       "    }\n",
       "\n",
       "    .dataframe tbody tr th {\n",
       "        vertical-align: top;\n",
       "    }\n",
       "\n",
       "    .dataframe thead th {\n",
       "        text-align: right;\n",
       "    }\n",
       "</style>\n",
       "<table border=\"1\" class=\"dataframe\">\n",
       "  <thead>\n",
       "    <tr style=\"text-align: right;\">\n",
       "      <th></th>\n",
       "      <th>Country</th>\n",
       "      <th>Gender</th>\n",
       "      <th>ConvertedSalary</th>\n",
       "      <th>EthicsChoice</th>\n",
       "    </tr>\n",
       "  </thead>\n",
       "  <tbody>\n",
       "    <tr>\n",
       "      <th>1</th>\n",
       "      <td>United Kingdom</td>\n",
       "      <td>Male</td>\n",
       "      <td>70841.0</td>\n",
       "      <td>Depends on what it is</td>\n",
       "    </tr>\n",
       "    <tr>\n",
       "      <th>4</th>\n",
       "      <td>South Africa</td>\n",
       "      <td>Male</td>\n",
       "      <td>21426.0</td>\n",
       "      <td>No</td>\n",
       "    </tr>\n",
       "    <tr>\n",
       "      <th>5</th>\n",
       "      <td>United Kingdom</td>\n",
       "      <td>Male</td>\n",
       "      <td>41671.0</td>\n",
       "      <td>Depends on what it is</td>\n",
       "    </tr>\n",
       "    <tr>\n",
       "      <th>6</th>\n",
       "      <td>United States</td>\n",
       "      <td>Male</td>\n",
       "      <td>120000.0</td>\n",
       "      <td>Depends on what it is</td>\n",
       "    </tr>\n",
       "    <tr>\n",
       "      <th>8</th>\n",
       "      <td>United States</td>\n",
       "      <td>Male</td>\n",
       "      <td>250000.0</td>\n",
       "      <td>No</td>\n",
       "    </tr>\n",
       "  </tbody>\n",
       "</table>\n",
       "</div>"
      ],
      "text/plain": [
       "          Country Gender  ConvertedSalary           EthicsChoice\n",
       "1  United Kingdom   Male          70841.0  Depends on what it is\n",
       "4    South Africa   Male          21426.0                     No\n",
       "5  United Kingdom   Male          41671.0  Depends on what it is\n",
       "6   United States   Male         120000.0  Depends on what it is\n",
       "8   United States   Male         250000.0                     No"
      ]
     },
     "execution_count": 117,
     "metadata": {},
     "output_type": "execute_result"
    }
   ],
   "source": [
    "subsetdf2.head()"
   ]
  },
  {
   "cell_type": "markdown",
   "metadata": {},
   "source": [
    "# Questions"
   ]
  },
  {
   "cell_type": "markdown",
   "metadata": {},
   "source": [
    "## Question 1: How does the gender imbalance vary with respect to countries? "
   ]
  },
  {
   "cell_type": "markdown",
   "metadata": {},
   "source": [
    "To answer this question, first let's look at the overall gender distribution. "
   ]
  },
  {
   "cell_type": "code",
   "execution_count": 118,
   "metadata": {},
   "outputs": [
    {
     "data": {
      "text/plain": [
       "Male      40463\n",
       "Female     2593\n",
       "Name: Gender, dtype: int64"
      ]
     },
     "execution_count": 118,
     "metadata": {},
     "output_type": "execute_result"
    }
   ],
   "source": [
    "subsetdf2.Gender.value_counts(normalize=False)"
   ]
  },
  {
   "cell_type": "code",
   "execution_count": 119,
   "metadata": {},
   "outputs": [
    {
     "data": {
      "text/plain": [
       "Male      0.939776\n",
       "Female    0.060224\n",
       "Name: Gender, dtype: float64"
      ]
     },
     "execution_count": 119,
     "metadata": {},
     "output_type": "execute_result"
    }
   ],
   "source": [
    "subsetdf2.Gender.value_counts(normalize=True)"
   ]
  },
  {
   "cell_type": "markdown",
   "metadata": {},
   "source": [
    "**Overall, there are about 6% of females represented in the survey**"
   ]
  },
  {
   "cell_type": "markdown",
   "metadata": {},
   "source": [
    "Function to calculate gender distribution for a given country"
   ]
  },
  {
   "cell_type": "code",
   "execution_count": 120,
   "metadata": {},
   "outputs": [],
   "source": [
    "def country_gender_distribution(country, base=subsetdf2):\n",
    "    \"\"\"\n",
    "        Function to calculate gender wise distribution for a given country\n",
    "        Inputs:\n",
    "            - country (str): country name for which distribution is to be calculated\n",
    "            - base (pandas dataframe): source dataframe\n",
    "        Returns:\n",
    "            - tuple (male and female counts)\n",
    "            \n",
    "    \"\"\"\n",
    "    tmp = base[base.Country==country]\n",
    "    return tmp[tmp.Gender == 'Male'].shape[0], tmp[tmp.Gender == 'Female'].shape[0]"
   ]
  },
  {
   "cell_type": "code",
   "execution_count": 121,
   "metadata": {},
   "outputs": [],
   "source": [
    "country_list, nmen_list, nwomen_list = [], [], []\n",
    "for c in subsetdf2.Country.unique(): #loop over each country to calculate gender distribution\n",
    "    m, f = country_gender_distribution(c)\n",
    "    country_list.append(c)\n",
    "    nmen_list.append(m)\n",
    "    nwomen_list.append(f)"
   ]
  },
  {
   "cell_type": "code",
   "execution_count": 122,
   "metadata": {},
   "outputs": [],
   "source": [
    "#summarize the results\n",
    "summary1 = pd.DataFrame({'country': country_list,\n",
    "             'nmen': nmen_list,\n",
    "             'nwomen': nwomen_list}, columns=['country', 'nmen', 'nwomen'])"
   ]
  },
  {
   "cell_type": "markdown",
   "metadata": {},
   "source": [
    "Calculate gender distribution in percentages"
   ]
  },
  {
   "cell_type": "code",
   "execution_count": 123,
   "metadata": {},
   "outputs": [],
   "source": [
    "summary1['total'] = summary1['nmen'] + summary1['nwomen']"
   ]
  },
  {
   "cell_type": "code",
   "execution_count": 124,
   "metadata": {},
   "outputs": [],
   "source": [
    "summary1['men%'] = (summary1['nmen']*100/summary1['total']).round(2)\n",
    "summary1['women%'] = (summary1['nwomen']*100/summary1['total']).round(2)"
   ]
  },
  {
   "cell_type": "code",
   "execution_count": 125,
   "metadata": {
    "scrolled": false
   },
   "outputs": [
    {
     "data": {
      "text/html": [
       "<div>\n",
       "<style scoped>\n",
       "    .dataframe tbody tr th:only-of-type {\n",
       "        vertical-align: middle;\n",
       "    }\n",
       "\n",
       "    .dataframe tbody tr th {\n",
       "        vertical-align: top;\n",
       "    }\n",
       "\n",
       "    .dataframe thead th {\n",
       "        text-align: right;\n",
       "    }\n",
       "</style>\n",
       "<table border=\"1\" class=\"dataframe\">\n",
       "  <thead>\n",
       "    <tr style=\"text-align: right;\">\n",
       "      <th></th>\n",
       "      <th>country</th>\n",
       "      <th>nmen</th>\n",
       "      <th>nwomen</th>\n",
       "      <th>total</th>\n",
       "      <th>men%</th>\n",
       "      <th>women%</th>\n",
       "    </tr>\n",
       "  </thead>\n",
       "  <tbody>\n",
       "    <tr>\n",
       "      <th>0</th>\n",
       "      <td>United Kingdom</td>\n",
       "      <td>3312</td>\n",
       "      <td>197</td>\n",
       "      <td>3509</td>\n",
       "      <td>94.39</td>\n",
       "      <td>5.61</td>\n",
       "    </tr>\n",
       "    <tr>\n",
       "      <th>1</th>\n",
       "      <td>South Africa</td>\n",
       "      <td>317</td>\n",
       "      <td>15</td>\n",
       "      <td>332</td>\n",
       "      <td>95.48</td>\n",
       "      <td>4.52</td>\n",
       "    </tr>\n",
       "    <tr>\n",
       "      <th>2</th>\n",
       "      <td>United States</td>\n",
       "      <td>10864</td>\n",
       "      <td>994</td>\n",
       "      <td>11858</td>\n",
       "      <td>91.62</td>\n",
       "      <td>8.38</td>\n",
       "    </tr>\n",
       "    <tr>\n",
       "      <th>3</th>\n",
       "      <td>Sweden</td>\n",
       "      <td>596</td>\n",
       "      <td>26</td>\n",
       "      <td>622</td>\n",
       "      <td>95.82</td>\n",
       "      <td>4.18</td>\n",
       "    </tr>\n",
       "    <tr>\n",
       "      <th>4</th>\n",
       "      <td>Australia</td>\n",
       "      <td>1012</td>\n",
       "      <td>65</td>\n",
       "      <td>1077</td>\n",
       "      <td>93.96</td>\n",
       "      <td>6.04</td>\n",
       "    </tr>\n",
       "  </tbody>\n",
       "</table>\n",
       "</div>"
      ],
      "text/plain": [
       "          country   nmen  nwomen  total   men%  women%\n",
       "0  United Kingdom   3312     197   3509  94.39    5.61\n",
       "1    South Africa    317      15    332  95.48    4.52\n",
       "2   United States  10864     994  11858  91.62    8.38\n",
       "3          Sweden    596      26    622  95.82    4.18\n",
       "4       Australia   1012      65   1077  93.96    6.04"
      ]
     },
     "execution_count": 125,
     "metadata": {},
     "output_type": "execute_result"
    }
   ],
   "source": [
    "summary1.head()"
   ]
  },
  {
   "cell_type": "code",
   "execution_count": 126,
   "metadata": {},
   "outputs": [
    {
     "data": {
      "text/plain": [
       "(155, 6)"
      ]
     },
     "execution_count": 126,
     "metadata": {},
     "output_type": "execute_result"
    }
   ],
   "source": [
    "summary1.shape"
   ]
  },
  {
   "cell_type": "markdown",
   "metadata": {},
   "source": [
    "Although there are about 155 countries in the summary table, not all of them have significant entries to be statistically relevant. Hence, we only consider those contries whose total respondents are greater than 100."
   ]
  },
  {
   "cell_type": "code",
   "execution_count": 127,
   "metadata": {},
   "outputs": [],
   "source": [
    "countries_considered = summary1[summary1.total>100].country.tolist()"
   ]
  },
  {
   "cell_type": "markdown",
   "metadata": {},
   "source": [
    "This brings down our number of countries to 51"
   ]
  },
  {
   "cell_type": "code",
   "execution_count": 129,
   "metadata": {},
   "outputs": [
    {
     "data": {
      "text/plain": [
       "51"
      ]
     },
     "execution_count": 129,
     "metadata": {},
     "output_type": "execute_result"
    }
   ],
   "source": [
    "len(countries_considered)"
   ]
  },
  {
   "cell_type": "code",
   "execution_count": 128,
   "metadata": {},
   "outputs": [],
   "source": [
    "summary1_r = summary1[summary1.total>100]"
   ]
  },
  {
   "cell_type": "markdown",
   "metadata": {},
   "source": [
    "Let's look at those contries who are fairing better than average in terms of female representation."
   ]
  },
  {
   "cell_type": "code",
   "execution_count": 59,
   "metadata": {},
   "outputs": [
    {
     "data": {
      "text/html": [
       "<div>\n",
       "<style scoped>\n",
       "    .dataframe tbody tr th:only-of-type {\n",
       "        vertical-align: middle;\n",
       "    }\n",
       "\n",
       "    .dataframe tbody tr th {\n",
       "        vertical-align: top;\n",
       "    }\n",
       "\n",
       "    .dataframe thead th {\n",
       "        text-align: right;\n",
       "    }\n",
       "</style>\n",
       "<table border=\"1\" class=\"dataframe\">\n",
       "  <thead>\n",
       "    <tr style=\"text-align: right;\">\n",
       "      <th></th>\n",
       "      <th>country</th>\n",
       "      <th>nmen</th>\n",
       "      <th>nwomen</th>\n",
       "      <th>total</th>\n",
       "      <th>men%</th>\n",
       "      <th>women%</th>\n",
       "    </tr>\n",
       "  </thead>\n",
       "  <tbody>\n",
       "    <tr>\n",
       "      <th>20</th>\n",
       "      <td>Egypt</td>\n",
       "      <td>93</td>\n",
       "      <td>15</td>\n",
       "      <td>108</td>\n",
       "      <td>86.11</td>\n",
       "      <td>13.89</td>\n",
       "    </tr>\n",
       "    <tr>\n",
       "      <th>31</th>\n",
       "      <td>Argentina</td>\n",
       "      <td>240</td>\n",
       "      <td>30</td>\n",
       "      <td>270</td>\n",
       "      <td>88.89</td>\n",
       "      <td>11.11</td>\n",
       "    </tr>\n",
       "    <tr>\n",
       "      <th>56</th>\n",
       "      <td>Nigeria</td>\n",
       "      <td>106</td>\n",
       "      <td>11</td>\n",
       "      <td>117</td>\n",
       "      <td>90.60</td>\n",
       "      <td>9.40</td>\n",
       "    </tr>\n",
       "    <tr>\n",
       "      <th>70</th>\n",
       "      <td>Philippines</td>\n",
       "      <td>120</td>\n",
       "      <td>12</td>\n",
       "      <td>132</td>\n",
       "      <td>90.91</td>\n",
       "      <td>9.09</td>\n",
       "    </tr>\n",
       "    <tr>\n",
       "      <th>55</th>\n",
       "      <td>Malaysia</td>\n",
       "      <td>107</td>\n",
       "      <td>10</td>\n",
       "      <td>117</td>\n",
       "      <td>91.45</td>\n",
       "      <td>8.55</td>\n",
       "    </tr>\n",
       "    <tr>\n",
       "      <th>2</th>\n",
       "      <td>United States</td>\n",
       "      <td>10864</td>\n",
       "      <td>994</td>\n",
       "      <td>11858</td>\n",
       "      <td>91.62</td>\n",
       "      <td>8.38</td>\n",
       "    </tr>\n",
       "    <tr>\n",
       "      <th>23</th>\n",
       "      <td>Canada</td>\n",
       "      <td>1679</td>\n",
       "      <td>144</td>\n",
       "      <td>1823</td>\n",
       "      <td>92.10</td>\n",
       "      <td>7.90</td>\n",
       "    </tr>\n",
       "    <tr>\n",
       "      <th>13</th>\n",
       "      <td>Romania</td>\n",
       "      <td>297</td>\n",
       "      <td>25</td>\n",
       "      <td>322</td>\n",
       "      <td>92.24</td>\n",
       "      <td>7.76</td>\n",
       "    </tr>\n",
       "    <tr>\n",
       "      <th>40</th>\n",
       "      <td>Sri Lanka</td>\n",
       "      <td>117</td>\n",
       "      <td>9</td>\n",
       "      <td>126</td>\n",
       "      <td>92.86</td>\n",
       "      <td>7.14</td>\n",
       "    </tr>\n",
       "    <tr>\n",
       "      <th>33</th>\n",
       "      <td>Ireland</td>\n",
       "      <td>269</td>\n",
       "      <td>19</td>\n",
       "      <td>288</td>\n",
       "      <td>93.40</td>\n",
       "      <td>6.60</td>\n",
       "    </tr>\n",
       "    <tr>\n",
       "      <th>10</th>\n",
       "      <td>China</td>\n",
       "      <td>205</td>\n",
       "      <td>14</td>\n",
       "      <td>219</td>\n",
       "      <td>93.61</td>\n",
       "      <td>6.39</td>\n",
       "    </tr>\n",
       "    <tr>\n",
       "      <th>26</th>\n",
       "      <td>Mexico</td>\n",
       "      <td>285</td>\n",
       "      <td>19</td>\n",
       "      <td>304</td>\n",
       "      <td>93.75</td>\n",
       "      <td>6.25</td>\n",
       "    </tr>\n",
       "    <tr>\n",
       "      <th>30</th>\n",
       "      <td>Bulgaria</td>\n",
       "      <td>152</td>\n",
       "      <td>10</td>\n",
       "      <td>162</td>\n",
       "      <td>93.83</td>\n",
       "      <td>6.17</td>\n",
       "    </tr>\n",
       "    <tr>\n",
       "      <th>36</th>\n",
       "      <td>Singapore</td>\n",
       "      <td>124</td>\n",
       "      <td>8</td>\n",
       "      <td>132</td>\n",
       "      <td>93.94</td>\n",
       "      <td>6.06</td>\n",
       "    </tr>\n",
       "    <tr>\n",
       "      <th>4</th>\n",
       "      <td>Australia</td>\n",
       "      <td>1012</td>\n",
       "      <td>65</td>\n",
       "      <td>1077</td>\n",
       "      <td>93.96</td>\n",
       "      <td>6.04</td>\n",
       "    </tr>\n",
       "  </tbody>\n",
       "</table>\n",
       "</div>"
      ],
      "text/plain": [
       "          country   nmen  nwomen  total   men%  women%\n",
       "20          Egypt     93      15    108  86.11   13.89\n",
       "31      Argentina    240      30    270  88.89   11.11\n",
       "56        Nigeria    106      11    117  90.60    9.40\n",
       "70    Philippines    120      12    132  90.91    9.09\n",
       "55       Malaysia    107      10    117  91.45    8.55\n",
       "2   United States  10864     994  11858  91.62    8.38\n",
       "23         Canada   1679     144   1823  92.10    7.90\n",
       "13        Romania    297      25    322  92.24    7.76\n",
       "40      Sri Lanka    117       9    126  92.86    7.14\n",
       "33        Ireland    269      19    288  93.40    6.60\n",
       "10          China    205      14    219  93.61    6.39\n",
       "26         Mexico    285      19    304  93.75    6.25\n",
       "30       Bulgaria    152      10    162  93.83    6.17\n",
       "36      Singapore    124       8    132  93.94    6.06\n",
       "4       Australia   1012      65   1077  93.96    6.04"
      ]
     },
     "execution_count": 59,
     "metadata": {},
     "output_type": "execute_result"
    }
   ],
   "source": [
    "summary1_r[summary1_r['women%']>0.060224*100].sort_values('women%', ascending=False)"
   ]
  },
  {
   "cell_type": "markdown",
   "metadata": {},
   "source": [
    "And the countries that are fairing worse than average"
   ]
  },
  {
   "cell_type": "code",
   "execution_count": 60,
   "metadata": {},
   "outputs": [
    {
     "data": {
      "text/html": [
       "<div>\n",
       "<style scoped>\n",
       "    .dataframe tbody tr th:only-of-type {\n",
       "        vertical-align: middle;\n",
       "    }\n",
       "\n",
       "    .dataframe tbody tr th {\n",
       "        vertical-align: top;\n",
       "    }\n",
       "\n",
       "    .dataframe thead th {\n",
       "        text-align: right;\n",
       "    }\n",
       "</style>\n",
       "<table border=\"1\" class=\"dataframe\">\n",
       "  <thead>\n",
       "    <tr style=\"text-align: right;\">\n",
       "      <th></th>\n",
       "      <th>country</th>\n",
       "      <th>nmen</th>\n",
       "      <th>nwomen</th>\n",
       "      <th>total</th>\n",
       "      <th>men%</th>\n",
       "      <th>women%</th>\n",
       "    </tr>\n",
       "  </thead>\n",
       "  <tbody>\n",
       "    <tr>\n",
       "      <th>27</th>\n",
       "      <td>Russian Federation</td>\n",
       "      <td>1029</td>\n",
       "      <td>64</td>\n",
       "      <td>1093</td>\n",
       "      <td>94.14</td>\n",
       "      <td>5.86</td>\n",
       "    </tr>\n",
       "    <tr>\n",
       "      <th>51</th>\n",
       "      <td>Ukraine</td>\n",
       "      <td>372</td>\n",
       "      <td>23</td>\n",
       "      <td>395</td>\n",
       "      <td>94.18</td>\n",
       "      <td>5.82</td>\n",
       "    </tr>\n",
       "    <tr>\n",
       "      <th>12</th>\n",
       "      <td>Japan</td>\n",
       "      <td>149</td>\n",
       "      <td>9</td>\n",
       "      <td>158</td>\n",
       "      <td>94.30</td>\n",
       "      <td>5.70</td>\n",
       "    </tr>\n",
       "    <tr>\n",
       "      <th>41</th>\n",
       "      <td>Serbia</td>\n",
       "      <td>133</td>\n",
       "      <td>8</td>\n",
       "      <td>141</td>\n",
       "      <td>94.33</td>\n",
       "      <td>5.67</td>\n",
       "    </tr>\n",
       "    <tr>\n",
       "      <th>0</th>\n",
       "      <td>United Kingdom</td>\n",
       "      <td>3312</td>\n",
       "      <td>197</td>\n",
       "      <td>3509</td>\n",
       "      <td>94.39</td>\n",
       "      <td>5.61</td>\n",
       "    </tr>\n",
       "    <tr>\n",
       "      <th>34</th>\n",
       "      <td>Finland</td>\n",
       "      <td>258</td>\n",
       "      <td>15</td>\n",
       "      <td>273</td>\n",
       "      <td>94.51</td>\n",
       "      <td>5.49</td>\n",
       "    </tr>\n",
       "    <tr>\n",
       "      <th>47</th>\n",
       "      <td>Belarus</td>\n",
       "      <td>105</td>\n",
       "      <td>6</td>\n",
       "      <td>111</td>\n",
       "      <td>94.59</td>\n",
       "      <td>5.41</td>\n",
       "    </tr>\n",
       "    <tr>\n",
       "      <th>28</th>\n",
       "      <td>Israel</td>\n",
       "      <td>387</td>\n",
       "      <td>22</td>\n",
       "      <td>409</td>\n",
       "      <td>94.62</td>\n",
       "      <td>5.38</td>\n",
       "    </tr>\n",
       "    <tr>\n",
       "      <th>29</th>\n",
       "      <td>Netherlands</td>\n",
       "      <td>855</td>\n",
       "      <td>48</td>\n",
       "      <td>903</td>\n",
       "      <td>94.68</td>\n",
       "      <td>5.32</td>\n",
       "    </tr>\n",
       "    <tr>\n",
       "      <th>17</th>\n",
       "      <td>Turkey</td>\n",
       "      <td>320</td>\n",
       "      <td>17</td>\n",
       "      <td>337</td>\n",
       "      <td>94.96</td>\n",
       "      <td>5.04</td>\n",
       "    </tr>\n",
       "    <tr>\n",
       "      <th>7</th>\n",
       "      <td>India</td>\n",
       "      <td>3210</td>\n",
       "      <td>169</td>\n",
       "      <td>3379</td>\n",
       "      <td>95.00</td>\n",
       "      <td>5.00</td>\n",
       "    </tr>\n",
       "    <tr>\n",
       "      <th>24</th>\n",
       "      <td>Spain</td>\n",
       "      <td>856</td>\n",
       "      <td>45</td>\n",
       "      <td>901</td>\n",
       "      <td>95.01</td>\n",
       "      <td>4.99</td>\n",
       "    </tr>\n",
       "    <tr>\n",
       "      <th>5</th>\n",
       "      <td>Greece</td>\n",
       "      <td>196</td>\n",
       "      <td>10</td>\n",
       "      <td>206</td>\n",
       "      <td>95.15</td>\n",
       "      <td>4.85</td>\n",
       "    </tr>\n",
       "    <tr>\n",
       "      <th>43</th>\n",
       "      <td>Norway</td>\n",
       "      <td>297</td>\n",
       "      <td>15</td>\n",
       "      <td>312</td>\n",
       "      <td>95.19</td>\n",
       "      <td>4.81</td>\n",
       "    </tr>\n",
       "    <tr>\n",
       "      <th>9</th>\n",
       "      <td>France</td>\n",
       "      <td>1238</td>\n",
       "      <td>62</td>\n",
       "      <td>1300</td>\n",
       "      <td>95.23</td>\n",
       "      <td>4.77</td>\n",
       "    </tr>\n",
       "    <tr>\n",
       "      <th>19</th>\n",
       "      <td>Iran, Islamic Republic of...</td>\n",
       "      <td>243</td>\n",
       "      <td>12</td>\n",
       "      <td>255</td>\n",
       "      <td>95.29</td>\n",
       "      <td>4.71</td>\n",
       "    </tr>\n",
       "    <tr>\n",
       "      <th>37</th>\n",
       "      <td>Pakistan</td>\n",
       "      <td>287</td>\n",
       "      <td>14</td>\n",
       "      <td>301</td>\n",
       "      <td>95.35</td>\n",
       "      <td>4.65</td>\n",
       "    </tr>\n",
       "    <tr>\n",
       "      <th>11</th>\n",
       "      <td>Colombia</td>\n",
       "      <td>165</td>\n",
       "      <td>8</td>\n",
       "      <td>173</td>\n",
       "      <td>95.38</td>\n",
       "      <td>4.62</td>\n",
       "    </tr>\n",
       "    <tr>\n",
       "      <th>1</th>\n",
       "      <td>South Africa</td>\n",
       "      <td>317</td>\n",
       "      <td>15</td>\n",
       "      <td>332</td>\n",
       "      <td>95.48</td>\n",
       "      <td>4.52</td>\n",
       "    </tr>\n",
       "    <tr>\n",
       "      <th>52</th>\n",
       "      <td>Hungary</td>\n",
       "      <td>191</td>\n",
       "      <td>9</td>\n",
       "      <td>200</td>\n",
       "      <td>95.50</td>\n",
       "      <td>4.50</td>\n",
       "    </tr>\n",
       "    <tr>\n",
       "      <th>6</th>\n",
       "      <td>Poland</td>\n",
       "      <td>822</td>\n",
       "      <td>37</td>\n",
       "      <td>859</td>\n",
       "      <td>95.69</td>\n",
       "      <td>4.31</td>\n",
       "    </tr>\n",
       "    <tr>\n",
       "      <th>8</th>\n",
       "      <td>Germany</td>\n",
       "      <td>2925</td>\n",
       "      <td>131</td>\n",
       "      <td>3056</td>\n",
       "      <td>95.71</td>\n",
       "      <td>4.29</td>\n",
       "    </tr>\n",
       "    <tr>\n",
       "      <th>46</th>\n",
       "      <td>Austria</td>\n",
       "      <td>343</td>\n",
       "      <td>15</td>\n",
       "      <td>358</td>\n",
       "      <td>95.81</td>\n",
       "      <td>4.19</td>\n",
       "    </tr>\n",
       "    <tr>\n",
       "      <th>3</th>\n",
       "      <td>Sweden</td>\n",
       "      <td>596</td>\n",
       "      <td>26</td>\n",
       "      <td>622</td>\n",
       "      <td>95.82</td>\n",
       "      <td>4.18</td>\n",
       "    </tr>\n",
       "    <tr>\n",
       "      <th>16</th>\n",
       "      <td>New Zealand</td>\n",
       "      <td>278</td>\n",
       "      <td>12</td>\n",
       "      <td>290</td>\n",
       "      <td>95.86</td>\n",
       "      <td>4.14</td>\n",
       "    </tr>\n",
       "    <tr>\n",
       "      <th>18</th>\n",
       "      <td>Denmark</td>\n",
       "      <td>324</td>\n",
       "      <td>13</td>\n",
       "      <td>337</td>\n",
       "      <td>96.14</td>\n",
       "      <td>3.86</td>\n",
       "    </tr>\n",
       "    <tr>\n",
       "      <th>22</th>\n",
       "      <td>Brazil</td>\n",
       "      <td>999</td>\n",
       "      <td>37</td>\n",
       "      <td>1036</td>\n",
       "      <td>96.43</td>\n",
       "      <td>3.57</td>\n",
       "    </tr>\n",
       "    <tr>\n",
       "      <th>14</th>\n",
       "      <td>Portugal</td>\n",
       "      <td>244</td>\n",
       "      <td>8</td>\n",
       "      <td>252</td>\n",
       "      <td>96.83</td>\n",
       "      <td>3.17</td>\n",
       "    </tr>\n",
       "    <tr>\n",
       "      <th>38</th>\n",
       "      <td>Belgium</td>\n",
       "      <td>340</td>\n",
       "      <td>11</td>\n",
       "      <td>351</td>\n",
       "      <td>96.87</td>\n",
       "      <td>3.13</td>\n",
       "    </tr>\n",
       "    <tr>\n",
       "      <th>50</th>\n",
       "      <td>Czech Republic</td>\n",
       "      <td>321</td>\n",
       "      <td>10</td>\n",
       "      <td>331</td>\n",
       "      <td>96.98</td>\n",
       "      <td>3.02</td>\n",
       "    </tr>\n",
       "    <tr>\n",
       "      <th>21</th>\n",
       "      <td>Indonesia</td>\n",
       "      <td>149</td>\n",
       "      <td>4</td>\n",
       "      <td>153</td>\n",
       "      <td>97.39</td>\n",
       "      <td>2.61</td>\n",
       "    </tr>\n",
       "    <tr>\n",
       "      <th>39</th>\n",
       "      <td>Switzerland</td>\n",
       "      <td>491</td>\n",
       "      <td>13</td>\n",
       "      <td>504</td>\n",
       "      <td>97.42</td>\n",
       "      <td>2.58</td>\n",
       "    </tr>\n",
       "    <tr>\n",
       "      <th>32</th>\n",
       "      <td>Bangladesh</td>\n",
       "      <td>194</td>\n",
       "      <td>5</td>\n",
       "      <td>199</td>\n",
       "      <td>97.49</td>\n",
       "      <td>2.51</td>\n",
       "    </tr>\n",
       "    <tr>\n",
       "      <th>15</th>\n",
       "      <td>Italy</td>\n",
       "      <td>666</td>\n",
       "      <td>15</td>\n",
       "      <td>681</td>\n",
       "      <td>97.80</td>\n",
       "      <td>2.20</td>\n",
       "    </tr>\n",
       "    <tr>\n",
       "      <th>65</th>\n",
       "      <td>Slovenia</td>\n",
       "      <td>103</td>\n",
       "      <td>2</td>\n",
       "      <td>105</td>\n",
       "      <td>98.10</td>\n",
       "      <td>1.90</td>\n",
       "    </tr>\n",
       "    <tr>\n",
       "      <th>48</th>\n",
       "      <td>Lithuania</td>\n",
       "      <td>117</td>\n",
       "      <td>2</td>\n",
       "      <td>119</td>\n",
       "      <td>98.32</td>\n",
       "      <td>1.68</td>\n",
       "    </tr>\n",
       "  </tbody>\n",
       "</table>\n",
       "</div>"
      ],
      "text/plain": [
       "                         country  nmen  nwomen  total   men%  women%\n",
       "27            Russian Federation  1029      64   1093  94.14    5.86\n",
       "51                       Ukraine   372      23    395  94.18    5.82\n",
       "12                         Japan   149       9    158  94.30    5.70\n",
       "41                        Serbia   133       8    141  94.33    5.67\n",
       "0                 United Kingdom  3312     197   3509  94.39    5.61\n",
       "34                       Finland   258      15    273  94.51    5.49\n",
       "47                       Belarus   105       6    111  94.59    5.41\n",
       "28                        Israel   387      22    409  94.62    5.38\n",
       "29                   Netherlands   855      48    903  94.68    5.32\n",
       "17                        Turkey   320      17    337  94.96    5.04\n",
       "7                          India  3210     169   3379  95.00    5.00\n",
       "24                         Spain   856      45    901  95.01    4.99\n",
       "5                         Greece   196      10    206  95.15    4.85\n",
       "43                        Norway   297      15    312  95.19    4.81\n",
       "9                         France  1238      62   1300  95.23    4.77\n",
       "19  Iran, Islamic Republic of...   243      12    255  95.29    4.71\n",
       "37                      Pakistan   287      14    301  95.35    4.65\n",
       "11                      Colombia   165       8    173  95.38    4.62\n",
       "1                   South Africa   317      15    332  95.48    4.52\n",
       "52                       Hungary   191       9    200  95.50    4.50\n",
       "6                         Poland   822      37    859  95.69    4.31\n",
       "8                        Germany  2925     131   3056  95.71    4.29\n",
       "46                       Austria   343      15    358  95.81    4.19\n",
       "3                         Sweden   596      26    622  95.82    4.18\n",
       "16                   New Zealand   278      12    290  95.86    4.14\n",
       "18                       Denmark   324      13    337  96.14    3.86\n",
       "22                        Brazil   999      37   1036  96.43    3.57\n",
       "14                      Portugal   244       8    252  96.83    3.17\n",
       "38                       Belgium   340      11    351  96.87    3.13\n",
       "50                Czech Republic   321      10    331  96.98    3.02\n",
       "21                     Indonesia   149       4    153  97.39    2.61\n",
       "39                   Switzerland   491      13    504  97.42    2.58\n",
       "32                    Bangladesh   194       5    199  97.49    2.51\n",
       "15                         Italy   666      15    681  97.80    2.20\n",
       "65                      Slovenia   103       2    105  98.10    1.90\n",
       "48                     Lithuania   117       2    119  98.32    1.68"
      ]
     },
     "execution_count": 60,
     "metadata": {},
     "output_type": "execute_result"
    }
   ],
   "source": [
    "summary1_r[summary1_r['women%']<0.060224*100].sort_values('women%', ascending=False)"
   ]
  },
  {
   "cell_type": "code",
   "execution_count": 153,
   "metadata": {},
   "outputs": [],
   "source": [
    "summary1_gdp = pd.merge(summary1_r, gdp, left_on='country', right_on='Country Name', how='left')"
   ]
  },
  {
   "cell_type": "code",
   "execution_count": 226,
   "metadata": {
    "scrolled": false
   },
   "outputs": [
    {
     "data": {
      "image/png": "[encoded data removed]",
      "text/plain": [
       "<matplotlib.figure.Figure at 0x13960ee10>"
      ]
     },
     "metadata": {},
     "output_type": "display_data"
    }
   ],
   "source": [
    "fig, ax = plt.subplots(figsize=(16, 8))\n",
    "ax.scatter(summary1_gdp['women%'], summary1_gdp['2017'], s=50)\n",
    "ax.vlines(0.060224*100, -10, summary1_gdp['2017'].max()+100, linestyle = '--', alpha=0.6, color='r', label='Average Women%')\n",
    "plt.legend()\n",
    "ax.set_xlabel('Women%', fontsize=15)\n",
    "ax.set_ylabel('GDP Per Capita', fontsize=15)\n",
    "plt.title('Women% Vs. GDP Per Capita', fontsize=17)\n",
    "plt.savefig('images/question1.jpg')\n",
    "plt.show()"
   ]
  },
  {
   "cell_type": "markdown",
   "metadata": {},
   "source": [
    "**Findings**: \n",
    "- The overall female representation is a mere ~6%\n",
    "- Egypt, Argentian and Nigeria have the best female representation, and Italy, Slovenia and Lithuania the worst.\n",
    "- Interestingly, there is no relation between GDP Per Capita and the percentage of women represented in the survey."
   ]
  },
  {
   "cell_type": "markdown",
   "metadata": {},
   "source": [
    "## Question 2: How does salary vary across contries between genders?"
   ]
  },
  {
   "cell_type": "markdown",
   "metadata": {},
   "source": [
    "Function to calculate mean salary for male and female genders for a given country"
   ]
  },
  {
   "cell_type": "code",
   "execution_count": 182,
   "metadata": {},
   "outputs": [],
   "source": [
    "def country_gender_salary_distribution(country, base=subsetdf2):\n",
    "    \"\"\"\n",
    "        Function to calculate mean salary of gender for a given country\n",
    "        Inputs:\n",
    "            - country (str): country name for which distribution is to be calculated\n",
    "            - base (pandas dataframe): source dataframe\n",
    "        Returns:\n",
    "            - tuple (male and female mean salary)\n",
    "            \n",
    "    \"\"\"\n",
    "    tmp = base[base.Country==country]\n",
    "    return tmp[tmp.Gender == 'Male']['ConvertedSalary'].mean(), tmp[tmp.Gender == 'Female']['ConvertedSalary'].mean()"
   ]
  },
  {
   "cell_type": "markdown",
   "metadata": {},
   "source": [
    "**Overall Salary Difference between Female and Male**"
   ]
  },
  {
   "cell_type": "code",
   "execution_count": 197,
   "metadata": {},
   "outputs": [
    {
     "data": {
      "text/plain": [
       "-8196.358768532678"
      ]
     },
     "execution_count": 197,
     "metadata": {},
     "output_type": "execute_result"
    }
   ],
   "source": [
    "subsetdf2[subsetdf2.Gender == 'Female'].ConvertedSalary.mean() - \\\n",
    "subsetdf2[subsetdf2.Gender == 'Male'].ConvertedSalary.mean()"
   ]
  },
  {
   "cell_type": "code",
   "execution_count": 183,
   "metadata": {},
   "outputs": [],
   "source": [
    "country_list, meanSalMen_list, meanSalWomen_list = [], [], []\n",
    "for c in subsetdf2.Country.unique():\n",
    "    m, f = country_gender_salary_distribution(c)\n",
    "    country_list.append(c)\n",
    "    meanSalMen_list.append(m)\n",
    "    meanSalWomen_list.append(f)"
   ]
  },
  {
   "cell_type": "code",
   "execution_count": 184,
   "metadata": {},
   "outputs": [],
   "source": [
    "#summarize the results\n",
    "summary2 = pd.DataFrame({'country': country_list,\n",
    "                        'menMeanSal': meanSalMen_list,\n",
    "                        'womenMeanSal': meanSalWomen_list}, columns=['country', 'menMeanSal', 'womenMeanSal'])"
   ]
  },
  {
   "cell_type": "code",
   "execution_count": 185,
   "metadata": {},
   "outputs": [],
   "source": [
    "#rounding off the means\n",
    "summary2['menMeanSal'] = summary2['menMeanSal'].round(0)\n",
    "summary2['womenMeanSal'] = summary2['womenMeanSal'].round(0)"
   ]
  },
  {
   "cell_type": "code",
   "execution_count": 186,
   "metadata": {},
   "outputs": [],
   "source": [
    "#calculate the salary difference between female and male \n",
    "summary2['salDiff'] = summary2['womenMeanSal'] - summary2['menMeanSal']"
   ]
  },
  {
   "cell_type": "code",
   "execution_count": 187,
   "metadata": {},
   "outputs": [],
   "source": [
    "#subset the countries considered to include only those who have significant respondents\n",
    "summary2_r = summary2[summary2.country.isin(countries_considered)]"
   ]
  },
  {
   "cell_type": "code",
   "execution_count": 189,
   "metadata": {},
   "outputs": [
    {
     "data": {
      "text/html": [
       "<div>\n",
       "<style scoped>\n",
       "    .dataframe tbody tr th:only-of-type {\n",
       "        vertical-align: middle;\n",
       "    }\n",
       "\n",
       "    .dataframe tbody tr th {\n",
       "        vertical-align: top;\n",
       "    }\n",
       "\n",
       "    .dataframe thead th {\n",
       "        text-align: right;\n",
       "    }\n",
       "</style>\n",
       "<table border=\"1\" class=\"dataframe\">\n",
       "  <thead>\n",
       "    <tr style=\"text-align: right;\">\n",
       "      <th></th>\n",
       "      <th>country</th>\n",
       "      <th>menMeanSal</th>\n",
       "      <th>womenMeanSal</th>\n",
       "      <th>salDiff</th>\n",
       "    </tr>\n",
       "  </thead>\n",
       "  <tbody>\n",
       "    <tr>\n",
       "      <th>43</th>\n",
       "      <td>Norway</td>\n",
       "      <td>157861.0</td>\n",
       "      <td>80827.0</td>\n",
       "      <td>-77034.0</td>\n",
       "    </tr>\n",
       "    <tr>\n",
       "      <th>1</th>\n",
       "      <td>South Africa</td>\n",
       "      <td>72892.0</td>\n",
       "      <td>33612.0</td>\n",
       "      <td>-39280.0</td>\n",
       "    </tr>\n",
       "    <tr>\n",
       "      <th>46</th>\n",
       "      <td>Austria</td>\n",
       "      <td>74439.0</td>\n",
       "      <td>37189.0</td>\n",
       "      <td>-37250.0</td>\n",
       "    </tr>\n",
       "    <tr>\n",
       "      <th>24</th>\n",
       "      <td>Spain</td>\n",
       "      <td>90122.0</td>\n",
       "      <td>52942.0</td>\n",
       "      <td>-37180.0</td>\n",
       "    </tr>\n",
       "    <tr>\n",
       "      <th>12</th>\n",
       "      <td>Japan</td>\n",
       "      <td>78183.0</td>\n",
       "      <td>41014.0</td>\n",
       "      <td>-37169.0</td>\n",
       "    </tr>\n",
       "  </tbody>\n",
       "</table>\n",
       "</div>"
      ],
      "text/plain": [
       "         country  menMeanSal  womenMeanSal  salDiff\n",
       "43        Norway    157861.0       80827.0 -77034.0\n",
       "1   South Africa     72892.0       33612.0 -39280.0\n",
       "46       Austria     74439.0       37189.0 -37250.0\n",
       "24         Spain     90122.0       52942.0 -37180.0\n",
       "12         Japan     78183.0       41014.0 -37169.0"
      ]
     },
     "execution_count": 189,
     "metadata": {},
     "output_type": "execute_result"
    }
   ],
   "source": [
    "summary2_r.sort_values('salDiff').head()"
   ]
  },
  {
   "cell_type": "code",
   "execution_count": 190,
   "metadata": {},
   "outputs": [
    {
     "data": {
      "text/html": [
       "<div>\n",
       "<style scoped>\n",
       "    .dataframe tbody tr th:only-of-type {\n",
       "        vertical-align: middle;\n",
       "    }\n",
       "\n",
       "    .dataframe tbody tr th {\n",
       "        vertical-align: top;\n",
       "    }\n",
       "\n",
       "    .dataframe thead th {\n",
       "        text-align: right;\n",
       "    }\n",
       "</style>\n",
       "<table border=\"1\" class=\"dataframe\">\n",
       "  <thead>\n",
       "    <tr style=\"text-align: right;\">\n",
       "      <th></th>\n",
       "      <th>country</th>\n",
       "      <th>menMeanSal</th>\n",
       "      <th>womenMeanSal</th>\n",
       "      <th>salDiff</th>\n",
       "    </tr>\n",
       "  </thead>\n",
       "  <tbody>\n",
       "    <tr>\n",
       "      <th>22</th>\n",
       "      <td>Brazil</td>\n",
       "      <td>55938.0</td>\n",
       "      <td>81816.0</td>\n",
       "      <td>25878.0</td>\n",
       "    </tr>\n",
       "    <tr>\n",
       "      <th>36</th>\n",
       "      <td>Singapore</td>\n",
       "      <td>93163.0</td>\n",
       "      <td>121455.0</td>\n",
       "      <td>28292.0</td>\n",
       "    </tr>\n",
       "    <tr>\n",
       "      <th>37</th>\n",
       "      <td>Pakistan</td>\n",
       "      <td>14825.0</td>\n",
       "      <td>55354.0</td>\n",
       "      <td>40529.0</td>\n",
       "    </tr>\n",
       "    <tr>\n",
       "      <th>38</th>\n",
       "      <td>Belgium</td>\n",
       "      <td>73009.0</td>\n",
       "      <td>123354.0</td>\n",
       "      <td>50345.0</td>\n",
       "    </tr>\n",
       "    <tr>\n",
       "      <th>55</th>\n",
       "      <td>Malaysia</td>\n",
       "      <td>26990.0</td>\n",
       "      <td>109815.0</td>\n",
       "      <td>82825.0</td>\n",
       "    </tr>\n",
       "  </tbody>\n",
       "</table>\n",
       "</div>"
      ],
      "text/plain": [
       "      country  menMeanSal  womenMeanSal  salDiff\n",
       "22     Brazil     55938.0       81816.0  25878.0\n",
       "36  Singapore     93163.0      121455.0  28292.0\n",
       "37   Pakistan     14825.0       55354.0  40529.0\n",
       "38    Belgium     73009.0      123354.0  50345.0\n",
       "55   Malaysia     26990.0      109815.0  82825.0"
      ]
     },
     "execution_count": 190,
     "metadata": {},
     "output_type": "execute_result"
    }
   ],
   "source": [
    "summary2_r.sort_values('salDiff').tail()"
   ]
  },
  {
   "cell_type": "markdown",
   "metadata": {},
   "source": [
    "Let's see if the difference has any relation with the GDP per capita"
   ]
  },
  {
   "cell_type": "code",
   "execution_count": 191,
   "metadata": {},
   "outputs": [],
   "source": [
    "summary2_gdp = pd.merge(summary2_r, gdp, left_on='country', right_on='Country Name', how='left')"
   ]
  },
  {
   "cell_type": "code",
   "execution_count": 225,
   "metadata": {
    "scrolled": false
   },
   "outputs": [
    {
     "data": {
      "image/png": "[encoded data removed]",
      "text/plain": [
       "<matplotlib.figure.Figure at 0x12b9215f8>"
      ]
     },
     "metadata": {},
     "output_type": "display_data"
    }
   ],
   "source": [
    "fig, ax = plt.subplots(figsize=(16, 8))\n",
    "ax.scatter(summary2_gdp['salDiff'], summary2_gdp['2017'], s=50)\n",
    "ax.vlines(-8196.358768532678, -10, summary2_gdp['2017'].max()+100, linestyle='--', color='r', label='Overall Salary Diff')\n",
    "ax.set_xlabel('salDiff (in $)', fontsize=15)\n",
    "ax.set_ylabel('GDP Per Capita', fontsize=15)\n",
    "plt.title('Salary Imbalance between Genders Vs. GDP Per Capita', fontsize=17)\n",
    "plt.savefig('images/question2.jpg')\n",
    "plt.show()"
   ]
  },
  {
   "cell_type": "code",
   "execution_count": 203,
   "metadata": {},
   "outputs": [
    {
     "data": {
      "text/html": [
       "<div>\n",
       "<style scoped>\n",
       "    .dataframe tbody tr th:only-of-type {\n",
       "        vertical-align: middle;\n",
       "    }\n",
       "\n",
       "    .dataframe tbody tr th {\n",
       "        vertical-align: top;\n",
       "    }\n",
       "\n",
       "    .dataframe thead th {\n",
       "        text-align: right;\n",
       "    }\n",
       "</style>\n",
       "<table border=\"1\" class=\"dataframe\">\n",
       "  <thead>\n",
       "    <tr style=\"text-align: right;\">\n",
       "      <th></th>\n",
       "      <th>country</th>\n",
       "      <th>menMeanSal</th>\n",
       "      <th>womenMeanSal</th>\n",
       "      <th>salDiff</th>\n",
       "      <th>Country Name</th>\n",
       "      <th>2017</th>\n",
       "    </tr>\n",
       "  </thead>\n",
       "  <tbody>\n",
       "    <tr>\n",
       "      <th>40</th>\n",
       "      <td>Norway</td>\n",
       "      <td>157861.0</td>\n",
       "      <td>80827.0</td>\n",
       "      <td>-77034.0</td>\n",
       "      <td>Norway</td>\n",
       "      <td>75504.566260</td>\n",
       "    </tr>\n",
       "    <tr>\n",
       "      <th>1</th>\n",
       "      <td>South Africa</td>\n",
       "      <td>72892.0</td>\n",
       "      <td>33612.0</td>\n",
       "      <td>-39280.0</td>\n",
       "      <td>South Africa</td>\n",
       "      <td>6151.077955</td>\n",
       "    </tr>\n",
       "    <tr>\n",
       "      <th>41</th>\n",
       "      <td>Austria</td>\n",
       "      <td>74439.0</td>\n",
       "      <td>37189.0</td>\n",
       "      <td>-37250.0</td>\n",
       "      <td>Austria</td>\n",
       "      <td>47290.911650</td>\n",
       "    </tr>\n",
       "    <tr>\n",
       "      <th>24</th>\n",
       "      <td>Spain</td>\n",
       "      <td>90122.0</td>\n",
       "      <td>52942.0</td>\n",
       "      <td>-37180.0</td>\n",
       "      <td>Spain</td>\n",
       "      <td>28156.815840</td>\n",
       "    </tr>\n",
       "    <tr>\n",
       "      <th>12</th>\n",
       "      <td>Japan</td>\n",
       "      <td>78183.0</td>\n",
       "      <td>41014.0</td>\n",
       "      <td>-37169.0</td>\n",
       "      <td>Japan</td>\n",
       "      <td>38428.097320</td>\n",
       "    </tr>\n",
       "  </tbody>\n",
       "</table>\n",
       "</div>"
      ],
      "text/plain": [
       "         country  menMeanSal  womenMeanSal  salDiff  Country Name  \\\n",
       "40        Norway    157861.0       80827.0 -77034.0        Norway   \n",
       "1   South Africa     72892.0       33612.0 -39280.0  South Africa   \n",
       "41       Austria     74439.0       37189.0 -37250.0       Austria   \n",
       "24         Spain     90122.0       52942.0 -37180.0         Spain   \n",
       "12         Japan     78183.0       41014.0 -37169.0         Japan   \n",
       "\n",
       "            2017  \n",
       "40  75504.566260  \n",
       "1    6151.077955  \n",
       "41  47290.911650  \n",
       "24  28156.815840  \n",
       "12  38428.097320  "
      ]
     },
     "execution_count": 203,
     "metadata": {},
     "output_type": "execute_result"
    }
   ],
   "source": [
    "summary2_gdp[summary2_gdp.salDiff<-8196].sort_values('salDiff').head()"
   ]
  },
  {
   "cell_type": "code",
   "execution_count": 205,
   "metadata": {},
   "outputs": [
    {
     "data": {
      "text/html": [
       "<div>\n",
       "<style scoped>\n",
       "    .dataframe tbody tr th:only-of-type {\n",
       "        vertical-align: middle;\n",
       "    }\n",
       "\n",
       "    .dataframe tbody tr th {\n",
       "        vertical-align: top;\n",
       "    }\n",
       "\n",
       "    .dataframe thead th {\n",
       "        text-align: right;\n",
       "    }\n",
       "</style>\n",
       "<table border=\"1\" class=\"dataframe\">\n",
       "  <thead>\n",
       "    <tr style=\"text-align: right;\">\n",
       "      <th></th>\n",
       "      <th>country</th>\n",
       "      <th>menMeanSal</th>\n",
       "      <th>womenMeanSal</th>\n",
       "      <th>salDiff</th>\n",
       "      <th>Country Name</th>\n",
       "      <th>2017</th>\n",
       "    </tr>\n",
       "  </thead>\n",
       "  <tbody>\n",
       "    <tr>\n",
       "      <th>22</th>\n",
       "      <td>Brazil</td>\n",
       "      <td>55938.0</td>\n",
       "      <td>81816.0</td>\n",
       "      <td>25878.0</td>\n",
       "      <td>Brazil</td>\n",
       "      <td>9821.407686</td>\n",
       "    </tr>\n",
       "    <tr>\n",
       "      <th>34</th>\n",
       "      <td>Singapore</td>\n",
       "      <td>93163.0</td>\n",
       "      <td>121455.0</td>\n",
       "      <td>28292.0</td>\n",
       "      <td>Singapore</td>\n",
       "      <td>57714.296630</td>\n",
       "    </tr>\n",
       "    <tr>\n",
       "      <th>35</th>\n",
       "      <td>Pakistan</td>\n",
       "      <td>14825.0</td>\n",
       "      <td>55354.0</td>\n",
       "      <td>40529.0</td>\n",
       "      <td>Pakistan</td>\n",
       "      <td>1547.853414</td>\n",
       "    </tr>\n",
       "    <tr>\n",
       "      <th>36</th>\n",
       "      <td>Belgium</td>\n",
       "      <td>73009.0</td>\n",
       "      <td>123354.0</td>\n",
       "      <td>50345.0</td>\n",
       "      <td>Belgium</td>\n",
       "      <td>43323.807340</td>\n",
       "    </tr>\n",
       "    <tr>\n",
       "      <th>47</th>\n",
       "      <td>Malaysia</td>\n",
       "      <td>26990.0</td>\n",
       "      <td>109815.0</td>\n",
       "      <td>82825.0</td>\n",
       "      <td>Malaysia</td>\n",
       "      <td>9951.544153</td>\n",
       "    </tr>\n",
       "  </tbody>\n",
       "</table>\n",
       "</div>"
      ],
      "text/plain": [
       "      country  menMeanSal  womenMeanSal  salDiff Country Name          2017\n",
       "22     Brazil     55938.0       81816.0  25878.0       Brazil   9821.407686\n",
       "34  Singapore     93163.0      121455.0  28292.0    Singapore  57714.296630\n",
       "35   Pakistan     14825.0       55354.0  40529.0     Pakistan   1547.853414\n",
       "36    Belgium     73009.0      123354.0  50345.0      Belgium  43323.807340\n",
       "47   Malaysia     26990.0      109815.0  82825.0     Malaysia   9951.544153"
      ]
     },
     "execution_count": 205,
     "metadata": {},
     "output_type": "execute_result"
    }
   ],
   "source": [
    "summary2_gdp[summary2_gdp.salDiff>-8196].sort_values('salDiff').tail()"
   ]
  },
  {
   "cell_type": "markdown",
   "metadata": {},
   "source": [
    "**Findings**: \n",
    "    \n",
    "- The overall (mean) salary imbalance stood at ~ $8200\n",
    "- Malaysia, Belgium and Pakistan have the highest (positive) salary difference between female and male respondents, and Norway, South Africa and Austria the highest (negative) difference.\n",
    "- Interestingly, there is no relation between GDP Per Capita and the salary difference between genders."
   ]
  },
  {
   "cell_type": "markdown",
   "metadata": {},
   "source": [
    "## Question 3: How does ethical choices vary across genders? "
   ]
  },
  {
   "attachments": {},
   "cell_type": "markdown",
   "metadata": {},
   "source": [
    "Specifically, let's see how the repondents answer to the question - **\"Imagine that you were asked to write code for a purpose or product that you consider extremely unethical. Do you write the code anyway?\"** - vary across genders."
   ]
  },
  {
   "cell_type": "markdown",
   "metadata": {},
   "source": [
    "Let's look at the absolute counts"
   ]
  },
  {
   "cell_type": "code",
   "execution_count": 96,
   "metadata": {},
   "outputs": [
    {
     "data": {
      "text/plain": [
       "No                       24220\n",
       "Depends on what it is    14601\n",
       "Yes                       1642\n",
       "Name: EthicsChoice, dtype: int64"
      ]
     },
     "execution_count": 96,
     "metadata": {},
     "output_type": "execute_result"
    }
   ],
   "source": [
    "subsetdf2[subsetdf2.Gender=='Male'].EthicsChoice.value_counts()"
   ]
  },
  {
   "cell_type": "code",
   "execution_count": 95,
   "metadata": {},
   "outputs": [
    {
     "data": {
      "text/plain": [
       "No                       1739\n",
       "Depends on what it is     794\n",
       "Yes                        60\n",
       "Name: EthicsChoice, dtype: int64"
      ]
     },
     "execution_count": 95,
     "metadata": {},
     "output_type": "execute_result"
    }
   ],
   "source": [
    "subsetdf2[subsetdf2.Gender=='Female'].EthicsChoice.value_counts()"
   ]
  },
  {
   "cell_type": "markdown",
   "metadata": {},
   "source": [
    "Now, let's look at the percentages"
   ]
  },
  {
   "cell_type": "code",
   "execution_count": 97,
   "metadata": {},
   "outputs": [
    {
     "data": {
      "text/plain": [
       "No                       0.598572\n",
       "Depends on what it is    0.360848\n",
       "Yes                      0.040580\n",
       "Name: EthicsChoice, dtype: float64"
      ]
     },
     "execution_count": 97,
     "metadata": {},
     "output_type": "execute_result"
    }
   ],
   "source": [
    "subsetdf2[subsetdf2.Gender=='Male'].EthicsChoice.value_counts(normalize=True)"
   ]
  },
  {
   "cell_type": "code",
   "execution_count": 98,
   "metadata": {},
   "outputs": [
    {
     "data": {
      "text/plain": [
       "No                       0.670652\n",
       "Depends on what it is    0.306209\n",
       "Yes                      0.023139\n",
       "Name: EthicsChoice, dtype: float64"
      ]
     },
     "execution_count": 98,
     "metadata": {},
     "output_type": "execute_result"
    }
   ],
   "source": [
    "subsetdf2[subsetdf2.Gender=='Female'].EthicsChoice.value_counts(normalize=True)"
   ]
  },
  {
   "cell_type": "code",
   "execution_count": 224,
   "metadata": {},
   "outputs": [
    {
     "data": {
      "image/png": "[encoded data removed]",
      "text/plain": [
       "<matplotlib.figure.Figure at 0x1209a4438>"
      ]
     },
     "metadata": {},
     "output_type": "display_data"
    }
   ],
   "source": [
    "fig, ax = plt.subplots(figsize=(15, 7))\n",
    "subsetdf2.groupby('Gender')['EthicsChoice'].value_counts(normalize=True).unstack().plot(kind='bar', ax=ax)\n",
    "plt.title('EthicsChoice w.r.t Gender', fontsize=17)\n",
    "plt.savefig('images/question3.jpg')\n",
    "plt.show()"
   ]
  },
  {
   "cell_type": "markdown",
   "metadata": {},
   "source": [
    "**Findings:**\n",
    "\n",
    "- Males are more inclined to make unethical choices - almost twice as much as female percentage who would make this choice. Male - 4%, Female - 2.3%. However, overall, very few respondents said they would make unethical choices. \n",
    "- There is a significant difference in the percentage of respondents who would strongly stick to ethical standards between males and females (59% Male Vs. 67% Female).\n",
    "- More percentage of males than females (36% Male vs. 30% Female) said their ethical choices \"Depends on what (kind of unethical purpose/product) it is\" before they make an ethical choice."
   ]
  },
  {
   "cell_type": "code",
   "execution_count": null,
   "metadata": {},
   "outputs": [],
   "source": []
  }
 ],
 "metadata": {
  "kernelspec": {
   "display_name": "Python 3",
   "language": "python",
   "name": "python3"
  },
  "language_info": {
   "codemirror_mode": {
    "name": "ipython",
    "version": 3
   },
   "file_extension": ".py",
   "mimetype": "text/x-python",
   "name": "python",
   "nbconvert_exporter": "python",
   "pygments_lexer": "ipython3",
   "version": "3.6.4"
  }
 },
 "nbformat": 4,
 "nbformat_minor": 2
}
